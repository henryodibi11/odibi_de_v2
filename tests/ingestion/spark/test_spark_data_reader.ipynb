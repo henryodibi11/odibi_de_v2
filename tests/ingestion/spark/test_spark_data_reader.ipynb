{
 "cells": [
  {
   "cell_type": "code",
   "execution_count": 0,
   "metadata": {
    "application/vnd.databricks.v1+cell": {
     "cellMetadata": {
      "byteLimit": 2048000,
      "rowLimit": 10000
     },
     "inputWidgets": {},
     "nuid": "5308a719-6811-46bd-84b5-d1e8337cbe20",
     "showTitle": false,
     "tableResultSettingsMap": {},
     "title": ""
    }
   },
   "outputs": [],
   "source": [
    "from odibi_de_v2.connector import AzureBlobConnector\n",
    "from odibi_de_v2.ingestion import SparkDataReader\n",
    "from odibi_de_v2.core import DataType\n",
    "from odibi_de_v2.core import Framework\n",
    "from pyspark.sql import SparkSession"
   ]
  },
  {
   "cell_type": "code",
   "execution_count": 0,
   "metadata": {
    "application/vnd.databricks.v1+cell": {
     "cellMetadata": {
      "byteLimit": 2048000,
      "rowLimit": 10000
     },
     "inputWidgets": {},
     "nuid": "06b18182-cb89-4e7b-b499-2d17e11635f8",
     "showTitle": false,
     "tableResultSettingsMap": {},
     "title": ""
    }
   },
   "outputs": [],
   "source": [
    "def set_qat_azure_storage_account():\n",
    "    spark = SparkSession.builder.appName(\"prod_azure_storage_account\").getOrCreate()\n",
    "    qat_storage_Name = dbutils.secrets.get(\"\", \"\")\n",
    "    qat_storage_key = dbutils.secrets.get(\"\", \"\")\n",
    "    spark.conf.set(\n",
    "    f\"fs.azure.account.key.{qat_storage_Name}.dfs.core.windows.net\",\n",
    "    qat_storage_key)\n",
    "    connector = AzureBlobConnector(\n",
    "        account_name=qat_storage_Name,\n",
    "        account_key=qat_storage_key\n",
    ")\n",
    "    return spark, connector\n",
    "\n",
    "spark, connector = set_qat_azure_storage_account()"
   ]
  },
  {
   "cell_type": "code",
   "execution_count": 0,
   "metadata": {
    "application/vnd.databricks.v1+cell": {
     "cellMetadata": {
      "byteLimit": 2048000,
      "rowLimit": 10000
     },
     "inputWidgets": {},
     "nuid": "e05ef529-acb7-4949-b699-3f50192f2518",
     "showTitle": false,
     "tableResultSettingsMap": {},
     "title": ""
    }
   },
   "outputs": [],
   "source": [
    "file_path = connector.get_file_path(\n",
    "    \"\",\n",
    "    \"\",\n",
    "    Framework.SPARK\n",
    ")\n",
    "reader = SparkDataReader()\n",
    "method_chain = {}\n",
    "df= reader.read_data(\n",
    "    data_type=DataType.PARQUET,\n",
    "    file_path=file_path,\n",
    "    spark=spark,\n",
    "    **method_chain)\n",
    "\n",
    "df.createOrReplaceTempView(\"MSEG\")"
   ]
  }
 ],
 "metadata": {
  "application/vnd.databricks.v1+notebook": {
   "computePreferences": null,
   "dashboards": [],
   "environmentMetadata": null,
   "inputWidgetPreferences": null,
   "language": "python",
   "notebookMetadata": {
    "mostRecentlyExecutedCommandWithImplicitDF": {
     "commandId": 6522045606771454,
     "dataframes": [
      "_sqldf"
     ]
    },
    "pythonIndentUnit": 4
   },
   "notebookName": "test_spark_data_reader",
   "widgets": {}
  },
  "kernelspec": {
   "display_name": "Python 3",
   "language": "python",
   "name": "python3"
  },
  "language_info": {
   "name": "python"
  }
 },
 "nbformat": 4,
 "nbformat_minor": 0
}
