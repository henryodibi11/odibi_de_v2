{
 "cells": [
  {
   "cell_type": "code",
   "execution_count": 0,
   "metadata": {
    "application/vnd.databricks.v1+cell": {
     "cellMetadata": {
      "byteLimit": 2048000,
      "rowLimit": 10000
     },
     "inputWidgets": {},
     "nuid": "07c63d9e-c8b9-44a9-95db-8150b6ef9622",
     "showTitle": false,
     "tableResultSettingsMap": {},
     "title": ""
    }
   },
   "outputs": [],
   "source": [
    "from odibi_de_v2.spark_utils.flatten import flatten_nested_structs\n",
    "# Sample deeply nested struct\n",
    "data = [\n",
    "   (1, {\"name\": \"Alice\", \"location\": {\"city\": \"NY\", \"zip\": \"10001\"}}),\n",
    "   (2, {\"name\": \"Bob\", \"location\": {\"city\": \"LA\", \"zip\": \"90001\"}})\n",
    "]\n",
    "\n",
    "schema = \"id INT, user STRUCT<name: STRING, location: STRUCT<city: STRING, zip: STRING>>\"\n",
    "df = spark.createDataFrame(data, schema)\n",
    "display(df)\n",
    "flat_df = flatten_nested_structs(df)\n",
    "flat_df.show(truncate=False)"
   ]
  }
 ],
 "metadata": {
  "application/vnd.databricks.v1+notebook": {
   "computePreferences": null,
   "dashboards": [],
   "environmentMetadata": null,
   "inputWidgetPreferences": null,
   "language": "python",
   "notebookMetadata": {
    "pythonIndentUnit": 4
   },
   "notebookName": "databricks_manual_test_spark_utils.flatten",
   "widgets": {}
  },
  "kernelspec": {
   "display_name": "Python 3",
   "language": "python",
   "name": "python3"
  },
  "language_info": {
   "name": "python"
  }
 },
 "nbformat": 4,
 "nbformat_minor": 0
}
