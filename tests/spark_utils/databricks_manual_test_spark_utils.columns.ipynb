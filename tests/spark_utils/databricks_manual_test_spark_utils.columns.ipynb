{
 "cells": [
  {
   "cell_type": "code",
   "execution_count": 0,
   "metadata": {
    "application/vnd.databricks.v1+cell": {
     "cellMetadata": {
      "byteLimit": 2048000,
      "rowLimit": 10000
     },
     "inputWidgets": {},
     "nuid": "07c63d9e-c8b9-44a9-95db-8150b6ef9622",
     "showTitle": false,
     "tableResultSettingsMap": {},
     "title": ""
    }
   },
   "outputs": [],
   "source": [
    "from odibi_de_v2.spark_utils.columns import has_columns, drop_columns, select_columns\n",
    "\n",
    "\n",
    "data = [(\"Alice\", 25, \"New York\"), (\"Bob\", 30, \"Chicago\")]\n",
    "cols = [\"name\", \"age\", \"city\"]\n",
    "df = spark.createDataFrame(data, cols)\n",
    "df.show()\n",
    "# has_columns\n",
    "print(has_columns(df, [\"name\", \"age\"]))        # True\n",
    "print(has_columns(df, [\"name\", \"salary\"]))     # False\n",
    "\n",
    "# drop_columns\n",
    "df_dropped = drop_columns(df, [\"city\"])\n",
    "df_dropped.show()\n",
    "\n",
    "# select_columns\n",
    "df_selected = select_columns(df, [\"name\", \"salary\"])\n",
    "df_selected.show()"
   ]
  }
 ],
 "metadata": {
  "application/vnd.databricks.v1+notebook": {
   "computePreferences": null,
   "dashboards": [],
   "environmentMetadata": null,
   "inputWidgetPreferences": null,
   "language": "python",
   "notebookMetadata": {
    "pythonIndentUnit": 4
   },
   "notebookName": "databricks_manual_test_spark_utils.columns",
   "widgets": {}
  },
  "kernelspec": {
   "display_name": "Python 3",
   "language": "python",
   "name": "python3"
  },
  "language_info": {
   "name": "python"
  }
 },
 "nbformat": 4,
 "nbformat_minor": 0
}
