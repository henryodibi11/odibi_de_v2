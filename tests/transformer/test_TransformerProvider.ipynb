{
 "cells": [
  {
   "cell_type": "code",
   "execution_count": 0,
   "metadata": {
    "application/vnd.databricks.v1+cell": {
     "cellMetadata": {
      "byteLimit": 2048000,
      "rowLimit": 10000
     },
     "inputWidgets": {},
     "nuid": "71c482cb-fcba-4120-893e-f23b5e616a90",
     "showTitle": false,
     "tableResultSettingsMap": {},
     "title": ""
    }
   },
   "outputs": [],
   "source": [
    "%load_ext autoreload\n",
    "%autoreload 2\n",
    "# Enables autoreload; learn more at https://docs.databricks.com/en/files/workspace-modules.html#autoreload-for-python-modules\n",
    "# To disable autoreload; run %autoreload 0"
   ]
  },
  {
   "cell_type": "code",
   "execution_count": 0,
   "metadata": {
    "application/vnd.databricks.v1+cell": {
     "cellMetadata": {
      "byteLimit": 2048000,
      "rowLimit": 10000
     },
     "inputWidgets": {},
     "nuid": "bda3e8eb-0cbf-4b4d-8f53-d5f7c1b6600f",
     "showTitle": false,
     "tableResultSettingsMap": {},
     "title": ""
    }
   },
   "outputs": [],
   "source": [
    "import sys\n",
    "import os\n",
    "sys.path.append(os.path.abspath('./odibi_de_v2'))\n",
    "os.environ[\"PYTHONDONTWRITEBYTECODE\"] = \"1\""
   ]
  },
  {
   "cell_type": "code",
   "execution_count": 0,
   "metadata": {
    "application/vnd.databricks.v1+cell": {
     "cellMetadata": {
      "byteLimit": 2048000,
      "rowLimit": 10000
     },
     "inputWidgets": {},
     "nuid": "75019e75-2151-4ca7-bcd6-c496f49a4fe2",
     "showTitle": false,
     "tableResultSettingsMap": {},
     "title": ""
    }
   },
   "outputs": [],
   "source": [
    "from odibi_de_v2.transformer import TransformerProvider"
   ]
  },
  {
   "cell_type": "code",
   "execution_count": 0,
   "metadata": {
    "application/vnd.databricks.v1+cell": {
     "cellMetadata": {
      "byteLimit": 2048000,
      "rowLimit": 10000
     },
     "inputWidgets": {},
     "nuid": "61082075-9e64-4b2a-a762-acd3362ca304",
     "showTitle": false,
     "tableResultSettingsMap": {},
     "title": ""
    }
   },
   "outputs": [],
   "source": [
    "from pyspark.sql import SparkSession\n",
    "import pandas as pd\n",
    "from odibi_de_v2.core import Framework\n",
    "\n",
    "# ---------- Setup ----------\n",
    "spark = SparkSession.builder.appName(\"TransformerProviderDemo\").getOrCreate()\n",
    "\n",
    "# Sample data\n",
    "spark_df = spark.createDataFrame([(1, \"A\", 3.0), (2, \"B\", 6.0)], [\"col1\", \"col2\", \"col3\"])\n",
    "pandas_df = pd.DataFrame({\"col1\": [1, 2], \"col2\": [\"A\", \"B\"], \"col3\": [3.0, 6.0]})\n",
    "\n",
    "# ---------- Transformer Providers ----------\n",
    "spark_provider = TransformerProvider(framework=Framework.SPARK)\n",
    "pandas_provider = TransformerProvider(framework=Framework.PANDAS)\n",
    "\n",
    "# ---------- Column Renamer ----------\n",
    "renamed_spark = spark_provider.transform(\"SparkColumnRenamer\", spark_df, column_map={\"col1\": \"id\", \"col2\": \"name\"})\n",
    "renamed_pandas = pandas_provider.transform(\"PandasColumnRenamer\", pandas_df, column_map={\"col1\": \"id\", \"col2\": \"name\"})\n",
    "\n",
    "# ---------- Column Dropper ----------\n",
    "dropped_spark = spark_provider.transform(\"SparkColumnDropper\", spark_df, columns_to_drop=[\"col3\"])\n",
    "dropped_pandas = pandas_provider.transform(\"PandasColumnDropper\", pandas_df, columns_to_drop=[\"col3\"])\n",
    "\n",
    "# ---------- Value Replacer ----------\n",
    "value_map = {\"col2\": {\"A\": \"X\", \"B\": \"Y\"}}\n",
    "replaced_spark = spark_provider.transform(\"SparkValueReplacer\", spark_df, value_map=value_map)\n",
    "replaced_pandas = pandas_provider.transform(\"PandasValueReplacer\", pandas_df, value_map=value_map)\n",
    "\n",
    "# ---------- Column Reorderer ----------\n",
    "reordered_spark = spark_provider.transform(\"SparkColumnReorderer\", spark_df, column_order=[\"col2\", \"col1\"], retain_unspecified=True)\n",
    "reordered_pandas = pandas_provider.transform(\"PandasColumnReorderer\", pandas_df, column_order=[\"col2\", \"col1\"], retain_unspecified=True)\n",
    "\n",
    "# ---------- Column Adder ----------\n",
    "added_spark = spark_provider.transform(\"SparkColumnAdder\", spark_df, column_name=\"static_col\", value=\"static\")\n",
    "added_pandas = pandas_provider.transform(\"PandasColumnAdder\", pandas_df, column_name=\"static_col\", value=\"static\")\n",
    "\n",
    "# ---------- Column Name Standardizer ----------\n",
    "standardized_spark = spark_provider.transform(\"SparkColumnNameStandardizer\", spark_df, case_style=\"snake_case\", exclude_columns=[\"col2\"])\n",
    "standardized_pandas = pandas_provider.transform(\"PandasColumnNameStandardizer\", pandas_df, case_style=\"snake_case\", exclude_columns=[\"col2\"])\n",
    "\n",
    "# ---------- Show Results ----------\n",
    "print(\"Pandas Renamed:\")\n",
    "print(renamed_pandas)\n",
    "print(\"\\nSpark Renamed:\")\n",
    "renamed_spark.show()\n"
   ]
  }
 ],
 "metadata": {
  "application/vnd.databricks.v1+notebook": {
   "computePreferences": null,
   "dashboards": [],
   "environmentMetadata": null,
   "inputWidgetPreferences": null,
   "language": "python",
   "notebookMetadata": {
    "pythonIndentUnit": 4
   },
   "notebookName": "test_TransformerProvider",
   "widgets": {}
  },
  "kernelspec": {
   "display_name": "Python 3",
   "language": "python",
   "name": "python3"
  },
  "language_info": {
   "name": "python"
  }
 },
 "nbformat": 4,
 "nbformat_minor": 0
}
