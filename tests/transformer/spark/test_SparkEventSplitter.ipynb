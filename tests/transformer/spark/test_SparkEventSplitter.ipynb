{
 "cells": [
  {
   "cell_type": "code",
   "execution_count": 0,
   "metadata": {
    "application/vnd.databricks.v1+cell": {
     "cellMetadata": {
      "byteLimit": 2048000,
      "rowLimit": 10000
     },
     "inputWidgets": {},
     "nuid": "71c482cb-fcba-4120-893e-f23b5e616a90",
     "showTitle": false,
     "tableResultSettingsMap": {},
     "title": ""
    }
   },
   "outputs": [],
   "source": [
    "%load_ext autoreload\n",
    "%autoreload 2\n",
    "# Enables autoreload; learn more at https://docs.databricks.com/en/files/workspace-modules.html#autoreload-for-python-modules\n",
    "# To disable autoreload; run %autoreload 0"
   ]
  },
  {
   "cell_type": "code",
   "execution_count": 0,
   "metadata": {
    "application/vnd.databricks.v1+cell": {
     "cellMetadata": {
      "byteLimit": 2048000,
      "rowLimit": 10000
     },
     "inputWidgets": {},
     "nuid": "bda3e8eb-0cbf-4b4d-8f53-d5f7c1b6600f",
     "showTitle": false,
     "tableResultSettingsMap": {},
     "title": ""
    }
   },
   "outputs": [],
   "source": [
    "import sys\n",
    "import os\n",
    "sys.path.append(os.path.abspath('./odibi_de_v2'))\n",
    "os.environ[\"PYTHONDONTWRITEBYTECODE\"] = \"1\"\n",
    "from odibi_de_v2.transformer import SQLTransformerFromConfig, SparkEventSplitter\n",
    "from odibi_de_v2.config import ConfigUtils"
   ]
  },
  {
   "cell_type": "code",
   "execution_count": 0,
   "metadata": {
    "application/vnd.databricks.v1+cell": {
     "cellMetadata": {
      "byteLimit": 2048000,
      "rowLimit": 10000
     },
     "inputWidgets": {},
     "nuid": "cc7ebf3d-a186-4828-b7a0-7c7f07972c30",
     "showTitle": false,
     "tableResultSettingsMap": {},
     "title": ""
    }
   },
   "outputs": [],
   "source": [
    "from pyspark.sql import SparkSession\n",
    "from pyspark.sql.types import StructType, StructField, StringType, TimestampType\n",
    "from pyspark.sql import functions as F\n",
    "from datetime import datetime\n",
    "\n",
    "# 1. Sample data\n",
    "data = [\n",
    "    (\"E1\", datetime.strptime(\"2023-09-01 18:00:00\", \"%Y-%m-%d %H:%M:%S\"), datetime.strptime(\"2023-09-03 06:00:00\", \"%Y-%m-%d %H:%M:%S\")),  # Spans across 2+ days\n",
    "    (\"E2\", datetime.strptime(\"2023-09-02 08:00:00\", \"%Y-%m-%d %H:%M:%S\"), datetime.strptime(\"2023-09-02 12:00:00\", \"%Y-%m-%d %H:%M:%S\")),  # Same day\n",
    "    (\"E3\", datetime.strptime(\"2023-09-03 01:00:00\", \"%Y-%m-%d %H:%M:%S\"), datetime.strptime(\"2023-09-03 07:00:00\", \"%Y-%m-%d %H:%M:%S\"))   # Same day but crosses anchor_time\n",
    "]\n",
    "\n",
    "schema = StructType([\n",
    "    StructField(\"Event_ID\", StringType(), True),\n",
    "    StructField(\"Start_Time\", TimestampType(), True),\n",
    "    StructField(\"End_Time\", TimestampType(), True)\n",
    "])\n",
    "\n",
    "spark = SparkSession.builder.getOrCreate()\n",
    "\n",
    "events_df = spark.createDataFrame(data, schema)\n",
    "display(events_df)\n",
    "\n",
    "# 2. Instantiate your splitter (e.g., split every 1 day starting from 06:00:00)\n",
    "splitter = SparkEventSplitter(\n",
    "    start_time_col=\"Start_Time\",\n",
    "    end_time_col=\"End_Time\",\n",
    "    interval_value=1,\n",
    "    interval_unit=\"day\",\n",
    "    anchor_time=\"00:00:00\"\n",
    ")\n",
    "\n",
    "# 3. Apply transformation\n",
    "result_df = splitter.transform(events_df)\n",
    "\n",
    "# 4. Show result\n",
    "display(result_df.orderBy(\"Event_ID\", \"Start_Time\"))"
   ]
  }
 ],
 "metadata": {
  "application/vnd.databricks.v1+notebook": {
   "computePreferences": null,
   "dashboards": [],
   "environmentMetadata": null,
   "inputWidgetPreferences": null,
   "language": "python",
   "notebookMetadata": {
    "mostRecentlyExecutedCommandWithImplicitDF": {
     "commandId": 5843370131342600,
     "dataframes": [
      "_sqldf"
     ]
    },
    "pythonIndentUnit": 4
   },
   "notebookName": "test_SparkEventSplitter",
   "widgets": {}
  },
  "kernelspec": {
   "display_name": "Python 3",
   "language": "python",
   "name": "python3"
  },
  "language_info": {
   "name": "python"
  }
 },
 "nbformat": 4,
 "nbformat_minor": 0
}
