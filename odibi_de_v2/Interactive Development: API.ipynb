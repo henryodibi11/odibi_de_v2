{
 "cells": [
  {
   "cell_type": "code",
   "execution_count": 0,
   "metadata": {
    "application/vnd.databricks.v1+cell": {
     "cellMetadata": {
      "byteLimit": 2048000,
      "rowLimit": 10000
     },
     "inputWidgets": {},
     "nuid": "71c482cb-fcba-4120-893e-f23b5e616a90",
     "showTitle": false,
     "tableResultSettingsMap": {},
     "title": ""
    }
   },
   "outputs": [],
   "source": [
    "%load_ext autoreload\n",
    "%autoreload 2\n",
    "# Enables autoreload; learn more at https://docs.databricks.com/en/files/workspace-modules.html#autoreload-for-python-modules\n",
    "# To disable autoreload; run %autoreload 0"
   ]
  },
  {
   "cell_type": "code",
   "execution_count": 0,
   "metadata": {
    "application/vnd.databricks.v1+cell": {
     "cellMetadata": {
      "byteLimit": 2048000,
      "rowLimit": 10000
     },
     "inputWidgets": {},
     "nuid": "bda3e8eb-0cbf-4b4d-8f53-d5f7c1b6600f",
     "showTitle": false,
     "tableResultSettingsMap": {},
     "title": ""
    }
   },
   "outputs": [],
   "source": [
    "import sys\n",
    "import os\n",
    "sys.path.append(os.path.abspath('./odibi_de_v2'))\n",
    "os.environ[\"PYTHONDONTWRITEBYTECODE\"] = \"1\"\n",
    "from odibi_de_v2.connector import AzureBlobConnection\n",
    "from odibi_de_v2.ingestion import ReaderProvider, PandasAPIReader, SparkAPIReader\n",
    "from odibi_de_v2.core import DataType, Framework\n",
    "from odibi_de_v2.connector import SQLDatabaseConnection\n",
    "from odibi_de_v2.databricks import (\n",
    "    init_spark_with_azure_secrets, load_config_tables_azure,\n",
    "    get_secret, IngestionConfigConstructor,TargetOptionsResolver,\n",
    "    SourceOptionsResolver, init_sql_config_connection,\n",
    "    BuildConnectionFromConfig, SparkDataReaderFromConfig,\n",
    "    DeltaTableManager, DeltaMergeManager, SparkDataSaverFromConfig,\n",
    "    discover_save_functions)\n",
    "from pyspark.sql import SparkSession, DataFrame as SparkDataFrame"
   ]
  },
  {
   "cell_type": "code",
   "execution_count": 0,
   "metadata": {
    "application/vnd.databricks.v1+cell": {
     "cellMetadata": {
      "byteLimit": 2048000,
      "rowLimit": 10000
     },
     "inputWidgets": {},
     "nuid": "843d8ffa-5f26-4103-8505-be6097d5e39b",
     "showTitle": false,
     "tableResultSettingsMap": {},
     "title": ""
    }
   },
   "outputs": [],
   "source": [
    "spark = SparkSession.builder.getOrCreate()"
   ]
  },
  {
   "cell_type": "code",
   "execution_count": 0,
   "metadata": {
    "application/vnd.databricks.v1+cell": {
     "cellMetadata": {
      "byteLimit": 2048000,
      "rowLimit": 10000
     },
     "inputWidgets": {},
     "nuid": "9e6aa3b3-6506-4a2b-89d6-b2788073050a",
     "showTitle": false,
     "tableResultSettingsMap": {},
     "title": ""
    }
   },
   "outputs": [],
   "source": [
    "df = ReaderProvider(local_engine=Framework.SPARK).read(\n",
    "    data_type=DataType.API,\n",
    "    container=\"\",  # ignored\n",
    "    path_prefix=\"\",  # ignored\n",
    "    object_name=\"\",  # ignored\n",
    "    spark=spark,\n",
    "    url=\"https://api.eia.gov/v2/natural-gas/cons/heat/data/\",\n",
    "    params={\"api_key\": \"gGv0eKooYnYngC6IvuF4qaViR4snNxBlTccPpbpQ\"},\n",
    "    pagination_type=\"offset\",\n",
    "    page_size=1000,\n",
    "    record_path=[\"response\", \"data\"])\n"
   ]
  }
 ],
 "metadata": {
  "application/vnd.databricks.v1+notebook": {
   "computePreferences": null,
   "dashboards": [],
   "environmentMetadata": null,
   "inputWidgetPreferences": null,
   "language": "python",
   "notebookMetadata": {
    "mostRecentlyExecutedCommandWithImplicitDF": {
     "commandId": 8393557362023014,
     "dataframes": [
      "_sqldf"
     ]
    },
    "pythonIndentUnit": 4
   },
   "notebookName": "Interactive Development: API",
   "widgets": {}
  },
  "kernelspec": {
   "display_name": "Python 3",
   "language": "python",
   "name": "python3"
  },
  "language_info": {
   "name": "python"
  }
 },
 "nbformat": 4,
 "nbformat_minor": 0
}
