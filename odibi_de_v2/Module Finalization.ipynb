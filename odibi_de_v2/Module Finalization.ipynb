{
 "cells": [
  {
   "cell_type": "code",
   "execution_count": 0,
   "metadata": {
    "application/vnd.databricks.v1+cell": {
     "cellMetadata": {
      "byteLimit": 2048000,
      "rowLimit": 10000
     },
     "inputWidgets": {},
     "nuid": "3a88348b-99c9-429a-a0d1-c93af1f3f850",
     "showTitle": false,
     "tableResultSettingsMap": {},
     "title": ""
    }
   },
   "outputs": [],
   "source": [
    "%load_ext autoreload\n",
    "%autoreload 2\n",
    "# Enables autoreload; learn more at https://docs.databricks.com/en/files/workspace-modules.html#autoreload-for-python-modules\n",
    "# To disable autoreload; run %autoreload 0"
   ]
  },
  {
   "cell_type": "code",
   "execution_count": 0,
   "metadata": {
    "application/vnd.databricks.v1+cell": {
     "cellMetadata": {
      "byteLimit": 2048000,
      "rowLimit": 10000
     },
     "inputWidgets": {},
     "nuid": "f1c07271-707f-4d26-8115-04ff65257b24",
     "showTitle": false,
     "tableResultSettingsMap": {},
     "title": ""
    }
   },
   "outputs": [],
   "source": [
    "import sys\n",
    "import os\n",
    "sys.path.append(os.path.abspath('./odibi_de_v2'))\n",
    "os.environ[\"PYTHONDONTWRITEBYTECODE\"] = \"1\""
   ]
  },
  {
   "cell_type": "code",
   "execution_count": 0,
   "metadata": {
    "application/vnd.databricks.v1+cell": {
     "cellMetadata": {
      "byteLimit": 2048000,
      "rowLimit": 10000
     },
     "inputWidgets": {},
     "nuid": "2126a53c-2f52-4ee5-a25e-b99d93ac3d5d",
     "showTitle": false,
     "tableResultSettingsMap": {},
     "title": ""
    }
   },
   "outputs": [],
   "source": [
    "from pyspark.sql import SparkSession\n",
    "from odibi_de_v2.core.enums import Framework\n",
    "from odibi_de_v2.connector import SQLDatabaseConnection\n",
    "from odibi_de_v2.ingestion import ReaderProvider\n",
    "from odibi_de_v2.core import DataType\n",
    "\n",
    "spark = SparkSession.builder.getOrCreate()\n",
    "connector = SQLDatabaseConnection(\n",
    "    host=\"myserver.database.windows.net\",\n",
    "    database=\"sales_db\",\n",
    "    user=\"admin\",\n",
    "    password=\"secret\",\n",
    "    framework=Framework.SPARK\n",
    ")"
   ]
  },
  {
   "cell_type": "code",
   "execution_count": 0,
   "metadata": {
    "application/vnd.databricks.v1+cell": {
     "cellMetadata": {
      "byteLimit": 2048000,
      "rowLimit": 10000
     },
     "inputWidgets": {},
     "nuid": "bee60b95-f35f-4e14-9f22-b2ab654c75f7",
     "showTitle": false,
     "tableResultSettingsMap": {},
     "title": ""
    }
   },
   "outputs": [],
   "source": [
    "print(storage_options)\n",
    "print(file_path)"
   ]
  },
  {
   "cell_type": "code",
   "execution_count": 0,
   "metadata": {
    "application/vnd.databricks.v1+cell": {
     "cellMetadata": {
      "byteLimit": 2048000,
      "rowLimit": 10000
     },
     "inputWidgets": {},
     "nuid": "cc96199a-5209-46dd-9b70-cb39edaa608b",
     "showTitle": false,
     "tableResultSettingsMap": {},
     "title": ""
    }
   },
   "outputs": [],
   "source": [
    "import os\n",
    "\n",
    "def print_tree(start_path, prefix=\"\", max_depth=None, current_depth=0, collect_lines=False):\n",
    "    lines = []\n",
    "    files = sorted(os.listdir(start_path))\n",
    "    entries = [f for f in files if not f.startswith(\".\")]\n",
    "\n",
    "    for index, name in enumerate(entries):\n",
    "        path = os.path.join(start_path, name)\n",
    "        is_last = index == len(entries) - 1\n",
    "        connector = \"└── \" if is_last else \"├── \"\n",
    "        icon = \"📁\" if os.path.isdir(path) else \"📄\"\n",
    "        line = f\"{prefix}{connector}{icon} {name}\"\n",
    "        print(line)\n",
    "        if collect_lines:\n",
    "            lines.append(line)\n",
    "\n",
    "        if os.path.isdir(path) and (max_depth is None or current_depth < max_depth):\n",
    "            extension = \"    \" if is_last else \"│   \"\n",
    "            child_lines = print_tree(\n",
    "                path,\n",
    "                prefix + extension,\n",
    "                max_depth=max_depth,\n",
    "                current_depth=current_depth + 1,\n",
    "                collect_lines=collect_lines\n",
    "            )\n",
    "            if collect_lines:\n",
    "                lines.extend(child_lines)\n",
    "\n",
    "    return lines if collect_lines else None\n",
    "\n",
    "# Example usage for Databricks or local\n",
    "if __name__ == \"__main__\":\n",
    "    folder_to_scan = \"/Workspace/Users/henry.odibi@ingredion.com/project_odibi_de_v2/odibi_de_v2\"  # Change this as needed\n",
    "    print(\"📁 odibi_de_v2/\")\n",
    "    lines = print_tree(folder_to_scan, collect_lines=True)\n",
    "\n",
    "    # OPTIONAL: save to file\n",
    "    with open(\"odibi_de_structure.txt\", \"w\") as f:\n",
    "        f.write(\"📁 odibi_de_v2/\\n\")\n",
    "        f.write(\"\\n\".join(lines))\n"
   ]
  }
 ],
 "metadata": {
  "application/vnd.databricks.v1+notebook": {
   "computePreferences": null,
   "dashboards": [],
   "environmentMetadata": {
    "base_environment": "",
    "environment_version": "2"
   },
   "inputWidgetPreferences": null,
   "language": "python",
   "notebookMetadata": {
    "pythonIndentUnit": 4
   },
   "notebookName": "Module Finalization",
   "widgets": {}
  },
  "language_info": {
   "name": "python"
  }
 },
 "nbformat": 4,
 "nbformat_minor": 0
}
