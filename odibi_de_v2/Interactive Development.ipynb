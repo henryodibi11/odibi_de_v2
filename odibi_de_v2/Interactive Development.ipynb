{
 "cells": [
  {
   "cell_type": "code",
   "execution_count": 0,
   "metadata": {
    "application/vnd.databricks.v1+cell": {
     "cellMetadata": {
      "byteLimit": 2048000,
      "rowLimit": 10000
     },
     "inputWidgets": {},
     "nuid": "71c482cb-fcba-4120-893e-f23b5e616a90",
     "showTitle": false,
     "tableResultSettingsMap": {},
     "title": ""
    }
   },
   "outputs": [],
   "source": [
    "%load_ext autoreload\n",
    "%autoreload 2\n",
    "# Enables autoreload; learn more at https://docs.databricks.com/en/files/workspace-modules.html#autoreload-for-python-modules\n",
    "# To disable autoreload; run %autoreload 0"
   ]
  },
  {
   "cell_type": "code",
   "execution_count": 0,
   "metadata": {
    "application/vnd.databricks.v1+cell": {
     "cellMetadata": {
      "byteLimit": 2048000,
      "rowLimit": 10000
     },
     "inputWidgets": {},
     "nuid": "bda3e8eb-0cbf-4b4d-8f53-d5f7c1b6600f",
     "showTitle": false,
     "tableResultSettingsMap": {},
     "title": ""
    }
   },
   "outputs": [],
   "source": [
    "import sys\n",
    "import os\n",
    "sys.path.append(os.path.abspath('./odibi_de_v2'))\n",
    "os.environ[\"PYTHONDONTWRITEBYTECODE\"] = \"1\"\n",
    "from odibi_de_v2.connector import AzureBlobConnection\n",
    "from odibi_de_v2.ingestion import ReaderProvider\n",
    "from odibi_de_v2.core import DataType, Framework\n",
    "from odibi_de_v2.connector import SQLDatabaseConnection\n",
    "from odibi_de_v2.databricks import (\n",
    "    init_spark_with_azure_secrets, load_config_tables_azure,\n",
    "    get_secret, IngestionConfigConstructor,TargetOptionsResolver,\n",
    "    SourceOptionsResolver, init_sql_config_connection,\n",
    "    BuildConnectionFromConfig, SparkDataReaderFromConfig,\n",
    "    DeltaTableManager, DeltaMergeManager, SparkDataSaverFromConfig,\n",
    "    discover_save_functions)\n"
   ]
  },
  {
   "cell_type": "code",
   "execution_count": 0,
   "metadata": {
    "application/vnd.databricks.v1+cell": {
     "cellMetadata": {
      "byteLimit": 2048000,
      "rowLimit": 10000
     },
     "inputWidgets": {},
     "nuid": "035ae89a-1dce-45c8-b1fe-8fa937a738d3",
     "showTitle": false,
     "tableResultSettingsMap": {},
     "title": ""
    }
   },
   "outputs": [],
   "source": [
    "spark, azure_connector = init_spark_with_azure_secrets(\n",
    "app_name=\"test_ingestion\",\n",
    "secret_scope=\"GOATKeyVault\",\n",
    "account_name_key=\"GoatBlobStorageName\",\n",
    "account_key_key=\"GoatBlobStorageKey\",\n",
    "logger_metadata={\n",
    "    \"project\": \"EnergyIngestion\",\n",
    "    \"table\": \"aspen-tag-config\",\n",
    "    \"domain\": \"Utilities\"})\n",
    "\n",
    "source_df, target_df = load_config_tables_azure(\n",
    "    host=get_secret(\"GOATKeyVault\", \"goatSQLDBServer\"),\n",
    "    database=get_secret(\"GOATKeyVault\", \"goatSQLDB-DM\"),\n",
    "    user=get_secret(\"GOATKeyVault\", \"goatSQLDBUser\"),\n",
    "    password=get_secret(\"GOATKeyVault\", \"goatSQLDBPass\"),\n",
    "    project=\"energy efficiency\",\n",
    "    source_id=\"src-goat-sql-aspen-tag-config\",\n",
    "    target_id=\"tgt-qat-sql-aspen-tag-config\",\n",
    "    spark=spark)\n",
    "\n",
    "constructor = IngestionConfigConstructor(source_df, target_df)\n",
    "source_config, target_config = constructor.prepare()\n",
    "\n",
    "# Read Data\n",
    "data = SparkDataReaderFromConfig(spark, source_config).read_data()\n",
    "\n",
    "# Save Data\n",
    "saver = SparkDataSaverFromConfig(spark, target_config, azure_connector)\n",
    "saver.save(data)\n",
    "\n"
   ]
  },
  {
   "cell_type": "code",
   "execution_count": 0,
   "metadata": {
    "application/vnd.databricks.v1+cell": {
     "cellMetadata": {
      "byteLimit": 2048000,
      "rowLimit": 10000
     },
     "inputWidgets": {},
     "nuid": "2e51ec76-e989-4a47-b1c4-72e844c49f23",
     "showTitle": false,
     "tableResultSettingsMap": {},
     "title": ""
    }
   },
   "outputs": [],
   "source": [
    "spark, azure_connector = init_spark_with_azure_secrets(\n",
    "app_name=\"test_ingestion\",\n",
    "secret_scope=\"GOATKeyVault\",\n",
    "account_name_key=\"GoatBlobStorageName\",\n",
    "account_key_key=\"GoatBlobStorageKey\",\n",
    "logger_metadata={\n",
    "    \"project\": \"EnergyIngestion\",\n",
    "    \"table\": \"eia-api\",\n",
    "    \"domain\": \"Utilities\"})\n",
    "\n",
    "source_df, target_df = load_config_tables_azure(\n",
    "    host=get_secret(\"GOATKeyVault\", \"goatSQLDBServer\"),\n",
    "    database=get_secret(\"GOATKeyVault\", \"goatSQLDB-DM\"),\n",
    "    user=get_secret(\"GOATKeyVault\", \"goatSQLDBUser\"),\n",
    "    password=get_secret(\"GOATKeyVault\", \"goatSQLDBPass\"),\n",
    "    project=\"energy efficiency\",\n",
    "    source_id=\"src-eia-natural-gas-cons-heat\",\n",
    "    target_id=\"tgt-qat-eia-api-bronze\",\n",
    "    spark=spark)\n",
    "\n",
    "constructor = IngestionConfigConstructor(source_df, target_df)\n",
    "source_config, target_config = constructor.prepare()\n",
    "\n",
    "# Read Data\n",
    "data = SparkDataReaderFromConfig(spark, source_config).read_data()\n",
    "\n",
    "# Save Data\n",
    "saver = SparkDataSaverFromConfig(spark, target_config, azure_connector)\n",
    "saver.save(data)\n",
    "\n"
   ]
  },
  {
   "cell_type": "code",
   "execution_count": 0,
   "metadata": {
    "application/vnd.databricks.v1+cell": {
     "cellMetadata": {
      "byteLimit": 2048000,
      "rowLimit": 10000
     },
     "inputWidgets": {},
     "nuid": "f5080a8a-3bf8-4624-978c-d64724790cc2",
     "showTitle": false,
     "tableResultSettingsMap": {},
     "title": ""
    }
   },
   "outputs": [],
   "source": [
    "spark, azure_connector = init_spark_with_azure_secrets(\n",
    "app_name=\"test_ingestion\",\n",
    "secret_scope=\"GOATKeyVault\",\n",
    "account_name_key=\"GoatBlobStorageName\",\n",
    "account_key_key=\"GoatBlobStorageKey\",\n",
    "logger_metadata={\n",
    "    \"project\": \"EnergyIngestion\",\n",
    "    \"table\": \"cedar-rapids-boilers\",\n",
    "    \"domain\": \"Utilities\"})\n",
    "\n",
    "source_df, target_df = load_config_tables_azure(\n",
    "    host=get_secret(\"GOATKeyVault\", \"goatSQLDBServer\"),\n",
    "    database=get_secret(\"GOATKeyVault\", \"goatSQLDB-DM\"),\n",
    "    user=get_secret(\"GOATKeyVault\", \"goatSQLDBUser\"),\n",
    "    password=get_secret(\"GOATKeyVault\", \"goatSQLDBPass\"),\n",
    "    project=\"energy efficiency\",\n",
    "    source_id=\"src-cedar-rapids-boilers\",\n",
    "    target_id=\"tgt-qat-cedar-rapids-boilers-bronze\",\n",
    "    spark=spark)\n",
    "\n",
    "constructor = IngestionConfigConstructor(source_df, target_df)\n",
    "source_config, target_config = constructor.prepare()\n",
    "\n",
    "# Read Data\n",
    "data = SparkDataReaderFromConfig(spark, source_config).read_data()\n",
    "\n",
    "# Save Data\n",
    "saver = SparkDataSaverFromConfig(spark, target_config, azure_connector)\n",
    "saver.save(data)\n",
    "\n"
   ]
  }
 ],
 "metadata": {
  "application/vnd.databricks.v1+notebook": {
   "computePreferences": null,
   "dashboards": [],
   "environmentMetadata": null,
   "inputWidgetPreferences": null,
   "language": "python",
   "notebookMetadata": {
    "mostRecentlyExecutedCommandWithImplicitDF": {
     "commandId": 7944858310041103,
     "dataframes": [
      "_sqldf"
     ]
    },
    "pythonIndentUnit": 4
   },
   "notebookName": "Interactive Development",
   "widgets": {}
  },
  "kernelspec": {
   "display_name": "Python 3",
   "language": "python",
   "name": "python3"
  },
  "language_info": {
   "name": "python"
  }
 },
 "nbformat": 4,
 "nbformat_minor": 0
}
