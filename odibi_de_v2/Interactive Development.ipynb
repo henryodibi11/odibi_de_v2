{
 "cells": [
  {
   "cell_type": "code",
   "execution_count": 0,
   "metadata": {
    "application/vnd.databricks.v1+cell": {
     "cellMetadata": {
      "byteLimit": 2048000,
      "rowLimit": 10000
     },
     "inputWidgets": {},
     "nuid": "71c482cb-fcba-4120-893e-f23b5e616a90",
     "showTitle": false,
     "tableResultSettingsMap": {},
     "title": ""
    }
   },
   "outputs": [],
   "source": [
    "%load_ext autoreload\n",
    "%autoreload 2\n",
    "# Enables autoreload; learn more at https://docs.databricks.com/en/files/workspace-modules.html#autoreload-for-python-modules\n",
    "# To disable autoreload; run %autoreload 0"
   ]
  },
  {
   "cell_type": "code",
   "execution_count": 0,
   "metadata": {
    "application/vnd.databricks.v1+cell": {
     "cellMetadata": {
      "byteLimit": 2048000,
      "rowLimit": 10000
     },
     "inputWidgets": {},
     "nuid": "bda3e8eb-0cbf-4b4d-8f53-d5f7c1b6600f",
     "showTitle": false,
     "tableResultSettingsMap": {},
     "title": ""
    }
   },
   "outputs": [],
   "source": [
    "import sys\n",
    "import os\n",
    "sys.path.append(os.path.abspath('./odibi_de_v2'))\n",
    "os.environ[\"PYTHONDONTWRITEBYTECODE\"] = \"1\"\n",
    "from odibi_de_v2.connector import AzureBlobConnector\n",
    "from odibi_de_v2.ingestion import SparkStreamingDataReader\n",
    "from odibi_de_v2.storage import SparkStreamingDataSaver\n",
    "from odibi_de_v2.core import DataType\n",
    "from odibi_de_v2.core import Framework\n",
    "from pyspark.sql import SparkSession\n"
   ]
  },
  {
   "cell_type": "code",
   "execution_count": 0,
   "metadata": {
    "application/vnd.databricks.v1+cell": {
     "cellMetadata": {
      "byteLimit": 2048000,
      "rowLimit": 10000
     },
     "inputWidgets": {},
     "nuid": "f0d72935-2255-407e-8b93-e1edc27b6d0f",
     "showTitle": false,
     "tableResultSettingsMap": {},
     "title": ""
    }
   },
   "outputs": [],
   "source": [
    "def set_qat_azure_storage_account():\n",
    "    spark = SparkSession.builder.appName(\"qat_azure_storage_account\").getOrCreate()\n",
    "    qat_storage_Name = dbutils.secrets.get(\"GOATKeyVault\", \"GoatBlobStorageName\")\n",
    "    qat_storage_key = dbutils.secrets.get(\"GOATKeyVault\", \"GoatBlobStorageKey\")\n",
    "    spark.conf.set(\n",
    "    f\"fs.azure.account.key.{qat_storage_Name}.dfs.core.windows.net\",\n",
    "    qat_storage_key)\n",
    "    connector = AzureBlobConnector(\n",
    "        account_name=qat_storage_Name,\n",
    "        account_key=qat_storage_key\n",
    ")\n",
    "    return spark, connector\n",
    "\n",
    "spark, connector = set_qat_azure_storage_account()"
   ]
  },
  {
   "cell_type": "code",
   "execution_count": 0,
   "metadata": {
    "application/vnd.databricks.v1+cell": {
     "cellMetadata": {
      "byteLimit": 2048000,
      "rowLimit": 10000
     },
     "inputWidgets": {},
     "nuid": "0b83a2dd-2897-4b14-b4cf-7ae5875e53a0",
     "showTitle": false,
     "tableResultSettingsMap": {},
     "title": ""
    }
   },
   "outputs": [],
   "source": [
    "file_path = connector.get_file_path(\n",
    "    \"digital-manufacturing\",\n",
    "    \"raw_Energy_Cedar_Rapids/Boilers\",\n",
    "    Framework.SPARK)\n",
    "schema_file_path = connector.get_file_path(\n",
    "    \"digital-manufacturing\",\n",
    "    \"raw_Energy_Cedar_Rapids/schema\",\n",
    "    Framework.SPARK\n",
    ")\n",
    "reader = SparkStreamingDataReader()\n",
    "df = reader.read_data(\n",
    "    data_type=DataType.AVRO,\n",
    "    file_path=file_path,\n",
    "    spark=spark,\n",
    "    options={\"cloudFiles.schemaLocation\": schema_file_path})"
   ]
  },
  {
   "cell_type": "code",
   "execution_count": 0,
   "metadata": {
    "application/vnd.databricks.v1+cell": {
     "cellMetadata": {
      "byteLimit": 2048000,
      "rowLimit": 10000
     },
     "inputWidgets": {},
     "nuid": "90e15d2e-d55a-4090-9c25-6201f9902e57",
     "showTitle": false,
     "tableResultSettingsMap": {},
     "title": ""
    }
   },
   "outputs": [],
   "source": [
    "saver_file_path = connector.get_file_path(\n",
    "    \"digital-manufacturing\",\n",
    "    \"odibi_de_stream_saver/test\",\n",
    "    Framework.SPARK)\n",
    "\n",
    "checkpoint_file_path = connector.get_file_path(\n",
    "    \"digital-manufacturing\",\n",
    "    \"odibi_de_stream_saver/checkpointa\",\n",
    "    Framework.SPARK)\n",
    "\n",
    "saver = SparkStreamingDataSaver()\n",
    "saver.save_data(\n",
    "    df=df,\n",
    "    data_type=DataType.DELTA,\n",
    "    file_path=saver_file_path,\n",
    "    options={\"checkpointLocation\": checkpoint_file_path},\n",
    "    trigger={\"availableNow\": True})\n"
   ]
  }
 ],
 "metadata": {
  "application/vnd.databricks.v1+notebook": {
   "computePreferences": null,
   "dashboards": [],
   "environmentMetadata": null,
   "inputWidgetPreferences": null,
   "language": "python",
   "notebookMetadata": {
    "pythonIndentUnit": 4
   },
   "notebookName": "Interactive Development",
   "widgets": {}
  },
  "kernelspec": {
   "display_name": "Python 3",
   "language": "python",
   "name": "python3"
  },
  "language_info": {
   "name": "python"
  }
 },
 "nbformat": 4,
 "nbformat_minor": 0
}
