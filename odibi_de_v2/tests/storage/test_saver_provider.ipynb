{
 "cells": [
  {
   "cell_type": "code",
   "execution_count": 0,
   "metadata": {
    "application/vnd.databricks.v1+cell": {
     "cellMetadata": {
      "byteLimit": 2048000,
      "rowLimit": 10000
     },
     "inputWidgets": {},
     "nuid": "71c482cb-fcba-4120-893e-f23b5e616a90",
     "showTitle": false,
     "tableResultSettingsMap": {},
     "title": ""
    }
   },
   "outputs": [],
   "source": [
    "%load_ext autoreload\n",
    "%autoreload 2\n",
    "# Enables autoreload; learn more at https://docs.databricks.com/en/files/workspace-modules.html#autoreload-for-python-modules\n",
    "# To disable autoreload; run %autoreload 0"
   ]
  },
  {
   "cell_type": "code",
   "execution_count": 0,
   "metadata": {
    "application/vnd.databricks.v1+cell": {
     "cellMetadata": {
      "byteLimit": 2048000,
      "rowLimit": 10000
     },
     "inputWidgets": {},
     "nuid": "bda3e8eb-0cbf-4b4d-8f53-d5f7c1b6600f",
     "showTitle": false,
     "tableResultSettingsMap": {},
     "title": ""
    }
   },
   "outputs": [],
   "source": [
    "import sys\n",
    "import os\n",
    "sys.path.append(os.path.abspath('./odibi_de_v2'))\n",
    "os.environ[\"PYTHONDONTWRITEBYTECODE\"] = \"1\"\n",
    "from odibi_de_v2.connector import AzureBlobConnection\n",
    "from odibi_de_v2.ingestion import ReaderProvider\n",
    "from odibi_de_v2.core import DataType, Framework\n",
    "from pyspark.sql import SparkSession\n",
    "from odibi_de_v2.storage import SaverProvider\n"
   ]
  },
  {
   "cell_type": "code",
   "execution_count": 0,
   "metadata": {
    "application/vnd.databricks.v1+cell": {
     "cellMetadata": {
      "byteLimit": 2048000,
      "rowLimit": 10000
     },
     "inputWidgets": {},
     "nuid": "469e1601-67ea-4af8-9232-fab04ee6fcc2",
     "showTitle": false,
     "tableResultSettingsMap": {},
     "title": ""
    }
   },
   "outputs": [],
   "source": [
    "azure_spark_connector = AzureBlobConnection(\n",
    "    dbutils.secrets.get(\"\", \"\"),\n",
    "    dbutils.secrets.get(\"\", \"\"),\n",
    "    Framework.SPARK)\n",
    "\n",
    "provider = ReaderProvider(azure_spark_connector)\n",
    "\n",
    "df = provider.read(\n",
    "    spark=spark,\n",
    "    data_type=DataType.AVRO,\n",
    "    container=\"\",\n",
    "    path_prefix=\"\",\n",
    "    object_name=\"\",\n",
    "    is_stream=False)\n",
    "\n",
    "schema_file_path = azure_spark_connector.get_file_path(\n",
    "    \"\",\n",
    "    \"saver_test/schema\",\n",
    "    \"\"\n",
    ")\n",
    "streaming_df = provider.read(\n",
    "    data_type=DataType.AVRO,\n",
    "    container=\"\",\n",
    "    path_prefix=\"\",\n",
    "    object_name=\"\",\n",
    "    spark=spark,\n",
    "    is_stream=True,\n",
    "    options={\"cloudFiles.schemaLocation\": schema_file_path})\n"
   ]
  },
  {
   "cell_type": "code",
   "execution_count": 0,
   "metadata": {
    "application/vnd.databricks.v1+cell": {
     "cellMetadata": {
      "byteLimit": 2048000,
      "rowLimit": 10000
     },
     "inputWidgets": {},
     "nuid": "c28847bd-ca82-44a0-bcef-31c336896de2",
     "showTitle": false,
     "tableResultSettingsMap": {},
     "title": ""
    }
   },
   "outputs": [],
   "source": [
    "saver_provider = SaverProvider(azure_spark_connector)\n",
    "saver_provider.save(\n",
    "    df=df,\n",
    "    data_type=DataType.CSV,\n",
    "    container=\"\",\n",
    "    path_prefix=\"\",\n",
    "    object_name=\"test_save_spark_csv\",\n",
    "    spark=spark,\n",
    "    mode=\"overwrite\"\n",
    ")\n",
    "\n",
    "\n",
    "# Streaming \n",
    "\n",
    "\n",
    "checkpoint_file_path = azure_spark_connector.get_file_path(\n",
    "    \"\",\n",
    "    \"saver_test/checkpoint\",\n",
    "    \"\"\n",
    ")\n",
    "\n",
    "saver_provider.save(\n",
    "    df=streaming_df,\n",
    "    data_type=DataType.DELTA,\n",
    "    container=\"\",\n",
    "    path_prefix=\"saver_test\",\n",
    "    object_name=\"test_save_spark_delta\",\n",
    "    spark=spark,\n",
    "    is_stream=True,\n",
    "    options={\"checkpointLocation\": checkpoint_file_path},\n",
    "    trigger={\"availableNow\": True}\n",
    ")"
   ]
  }
 ],
 "metadata": {
  "application/vnd.databricks.v1+notebook": {
   "computePreferences": null,
   "dashboards": [],
   "environmentMetadata": null,
   "inputWidgetPreferences": null,
   "language": "python",
   "notebookMetadata": {
    "pythonIndentUnit": 4
   },
   "notebookName": "test_saver_provider",
   "widgets": {}
  },
  "kernelspec": {
   "display_name": "Python 3",
   "language": "python",
   "name": "python3"
  },
  "language_info": {
   "name": "python"
  }
 },
 "nbformat": 4,
 "nbformat_minor": 0
}
