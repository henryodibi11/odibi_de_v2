{
 "cells": [
  {
   "cell_type": "code",
   "execution_count": 0,
   "metadata": {
    "application/vnd.databricks.v1+cell": {
     "cellMetadata": {
      "byteLimit": 2048000,
      "rowLimit": 10000
     },
     "inputWidgets": {},
     "nuid": "07c63d9e-c8b9-44a9-95db-8150b6ef9622",
     "showTitle": false,
     "tableResultSettingsMap": {},
     "title": ""
    }
   },
   "outputs": [],
   "source": [
    "from odibi_de_v2.spark_utils.datetime_utils import convert_to_datetime, extract_date_parts\n",
    "\n",
    "# Create dummy data\n",
    "data = [(\"2024-01-01 08:00:00\",), (\"2024-05-15 12:30:00\",), (\"not_a_date\",)]\n",
    "df = spark.createDataFrame(data, [\"event_time\"])\n",
    "df.display()\n",
    "# Convert to timestamp\n",
    "df_converted = convert_to_datetime(df, \"event_time\")\n",
    "df_converted.display()\n",
    "# Extract year/month/day\n",
    "df_parts = extract_date_parts(df_converted, \"event_time\")\n",
    "df_parts.display()"
   ]
  }
 ],
 "metadata": {
  "application/vnd.databricks.v1+notebook": {
   "computePreferences": null,
   "dashboards": [],
   "environmentMetadata": null,
   "inputWidgetPreferences": null,
   "language": "python",
   "notebookMetadata": {
    "pythonIndentUnit": 4
   },
   "notebookName": "databricks_manual_test_spark_utils.datetime_utils",
   "widgets": {}
  },
  "kernelspec": {
   "display_name": "Python 3",
   "language": "python",
   "name": "python3"
  },
  "language_info": {
   "name": "python"
  }
 },
 "nbformat": 4,
 "nbformat_minor": 0
}
