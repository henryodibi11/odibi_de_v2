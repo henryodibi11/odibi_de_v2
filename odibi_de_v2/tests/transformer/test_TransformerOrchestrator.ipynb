{
 "cells": [
  {
   "cell_type": "code",
   "execution_count": 0,
   "metadata": {
    "application/vnd.databricks.v1+cell": {
     "cellMetadata": {
      "byteLimit": 2048000,
      "rowLimit": 10000
     },
     "inputWidgets": {},
     "nuid": "71c482cb-fcba-4120-893e-f23b5e616a90",
     "showTitle": false,
     "tableResultSettingsMap": {},
     "title": ""
    }
   },
   "outputs": [],
   "source": [
    "%load_ext autoreload\n",
    "%autoreload 2\n",
    "# Enables autoreload; learn more at https://docs.databricks.com/en/files/workspace-modules.html#autoreload-for-python-modules\n",
    "# To disable autoreload; run %autoreload 0"
   ]
  },
  {
   "cell_type": "code",
   "execution_count": 0,
   "metadata": {
    "application/vnd.databricks.v1+cell": {
     "cellMetadata": {
      "byteLimit": 2048000,
      "rowLimit": 10000
     },
     "inputWidgets": {},
     "nuid": "bda3e8eb-0cbf-4b4d-8f53-d5f7c1b6600f",
     "showTitle": false,
     "tableResultSettingsMap": {},
     "title": ""
    }
   },
   "outputs": [],
   "source": [
    "import sys\n",
    "import os\n",
    "sys.path.append(os.path.abspath('./odibi_de_v2'))\n",
    "os.environ[\"PYTHONDONTWRITEBYTECODE\"] = \"1\"\n",
    "from odibi_de_v2.transformer import SQLGeneratorFromConfig,TransformerOrchestrator\n",
    "from odibi_de_v2.config import ConfigUtils"
   ]
  },
  {
   "cell_type": "code",
   "execution_count": 0,
   "metadata": {
    "application/vnd.databricks.v1+cell": {
     "cellMetadata": {
      "byteLimit": 2048000,
      "rowLimit": 10000
     },
     "inputWidgets": {},
     "nuid": "a15bfd94-45a2-4212-84a9-9466d65b1162",
     "showTitle": false,
     "tableResultSettingsMap": {},
     "title": ""
    }
   },
   "outputs": [],
   "source": [
    "from pyspark.sql import SparkSession\n",
    "import pandas as pd\n",
    "\n",
    "# Create a tiny DataFrame\n",
    "data = [\n",
    "    (1, \"Apple\", 100),\n",
    "    (2, \"Banana\", 200),\n",
    "    (3, \"Cherry\", None),\n",
    "]\n",
    "columns = [\"id\", \"product_name\", \"sales\"]\n",
    "\n",
    "df_bronze = spark.createDataFrame(data, columns)\n",
    "\n",
    "# Register as bronze table\n",
    "df_bronze.createOrReplaceTempView(\"bronze_table\")\n",
    "\n",
    "display(df_bronze)\n"
   ]
  },
  {
   "cell_type": "code",
   "execution_count": 0,
   "metadata": {
    "application/vnd.databricks.v1+cell": {
     "cellMetadata": {
      "byteLimit": 2048000,
      "rowLimit": 10000
     },
     "inputWidgets": {},
     "nuid": "095cb5ce-a394-479c-9c11-3b047db09791",
     "showTitle": false,
     "tableResultSettingsMap": {},
     "title": ""
    }
   },
   "outputs": [],
   "source": [
    "from odibi_de_v2.config import ConfigUtils\n",
    "from pyspark.sql import SparkSession\n",
    "# from odibi_de_v2.transformer import SilverTransformerOrchestrator\n",
    "\n",
    "spark = SparkSession.builder.appName(\"Test\").getOrCreate()\n",
    "config_utils = ConfigUtils(\n",
    "    secret_scope=\"GOATKeyVault\",\n",
    "    host_key=\"goatSQLDBServer\",\n",
    "    database=\"globaldigitalops\",\n",
    "    user_key=\"goatSQLDBUser\",\n",
    "    password_key=\"goatSQLDBPass\",\n",
    "    spark=spark)\n",
    "# Create orchestrator\n",
    "orchestrator = TransformerOrchestrator(\n",
    "    spark=spark,\n",
    "    config_utils=config_utils,\n",
    "    project=\"MyProject\"\n",
    ")\n",
    "\n",
    "# Run it\n",
    "orchestrator.run()\n",
    "\n",
    "# Show the audit\n",
    "audit_log = orchestrator.get_audit_log()\n",
    "display(audit_log)\n"
   ]
  }
 ],
 "metadata": {
  "application/vnd.databricks.v1+notebook": {
   "computePreferences": null,
   "dashboards": [],
   "environmentMetadata": null,
   "inputWidgetPreferences": null,
   "language": "python",
   "notebookMetadata": {
    "mostRecentlyExecutedCommandWithImplicitDF": {
     "commandId": 5797817320479293,
     "dataframes": [
      "_sqldf"
     ]
    },
    "pythonIndentUnit": 4
   },
   "notebookName": "test_TransformerOrchestrator",
   "widgets": {}
  },
  "kernelspec": {
   "display_name": "Python 3",
   "language": "python",
   "name": "python3"
  },
  "language_info": {
   "name": "python"
  }
 },
 "nbformat": 4,
 "nbformat_minor": 0
}
