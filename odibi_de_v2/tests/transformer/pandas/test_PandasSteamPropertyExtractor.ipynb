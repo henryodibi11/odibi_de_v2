{
 "cells": [
  {
   "cell_type": "code",
   "execution_count": 0,
   "metadata": {
    "application/vnd.databricks.v1+cell": {
     "cellMetadata": {
      "byteLimit": 2048000,
      "rowLimit": 10000
     },
     "inputWidgets": {},
     "nuid": "71c482cb-fcba-4120-893e-f23b5e616a90",
     "showTitle": false,
     "tableResultSettingsMap": {},
     "title": ""
    }
   },
   "outputs": [],
   "source": [
    "%load_ext autoreload\n",
    "%autoreload 2\n",
    "# Enables autoreload; learn more at https://docs.databricks.com/en/files/workspace-modules.html#autoreload-for-python-modules\n",
    "# To disable autoreload; run %autoreload 0"
   ]
  },
  {
   "cell_type": "code",
   "execution_count": 0,
   "metadata": {
    "application/vnd.databricks.v1+cell": {
     "cellMetadata": {
      "byteLimit": 2048000,
      "rowLimit": 10000
     },
     "inputWidgets": {},
     "nuid": "bda3e8eb-0cbf-4b4d-8f53-d5f7c1b6600f",
     "showTitle": false,
     "tableResultSettingsMap": {},
     "title": ""
    }
   },
   "outputs": [],
   "source": [
    "import sys\n",
    "import os\n",
    "sys.path.append(os.path.abspath('./odibi_de_v2'))\n",
    "os.environ[\"PYTHONDONTWRITEBYTECODE\"] = \"1\"\n",
    "from odibi_de_v2.transformer import PandasSteamPropertyExtractor\n",
    "from odibi_de_v2.config import ConfigUtils\n",
    "from odibi_de_v2.utils import send_email_using_logic_app\n",
    "from odibi_de_v2.databricks import run_notebook_with_logging,log_to_centralized_table"
   ]
  },
  {
   "cell_type": "code",
   "execution_count": 0,
   "metadata": {
    "application/vnd.databricks.v1+cell": {
     "cellMetadata": {
      "byteLimit": 2048000,
      "rowLimit": 10000
     },
     "inputWidgets": {},
     "nuid": "6cd47177-3ade-4426-8737-cab26bb5ea49",
     "showTitle": false,
     "tableResultSettingsMap": {},
     "title": ""
    }
   },
   "outputs": [],
   "source": [
    "import pandas as pd\n",
    "# from odibi_de_v2.transformer.pandas_steam_property_extractor import PandasSteamPropertyExtractor\n",
    "\n",
    "# Sample data with temperature in Celsius\n",
    "df = pd.DataFrame({\n",
    "    \"Timestamp\": pd.date_range(\"2024-01-01\", periods=5, freq=\"H\"),\n",
    "    \"Boiler_Pressure\": [5.0, 6.2, 4.8, 7.0, 5.5],       # MPa\n",
    "    \"Feedwater_Temp\": [100.0, 95.0, 105.0, 98.0, 102.0]  # °C\n",
    "})\n",
    "\n",
    "# Define transformer with T in Kelvin\n",
    "transformer = PandasSteamPropertyExtractor(\n",
    "    input_params={\n",
    "        \"P\": \"Boiler_Pressure\",                      # Use pressure column as-is\n",
    "        \"T\": 'lambda row: row[\"Feedwater_Temp\"] + 273.15'  # Convert °C to K\n",
    "    },\n",
    "    output_properties=[\"h\", \"s\", \"cp\", \"cv\"],\n",
    "    prefix=\"Feedwater\")\n",
    "\n",
    "# Transform\n",
    "df_transformed = transformer.transform(df)\n",
    "\n",
    "# Display output\n",
    "display(df_transformed)\n"
   ]
  }
 ],
 "metadata": {
  "application/vnd.databricks.v1+notebook": {
   "computePreferences": null,
   "dashboards": [],
   "environmentMetadata": null,
   "inputWidgetPreferences": null,
   "language": "python",
   "notebookMetadata": {
    "mostRecentlyExecutedCommandWithImplicitDF": {
     "commandId": 5843370131342600,
     "dataframes": [
      "_sqldf"
     ]
    },
    "pythonIndentUnit": 4
   },
   "notebookName": "test_PandasSteamPropertyExtractor",
   "widgets": {}
  },
  "kernelspec": {
   "display_name": "Python 3",
   "language": "python",
   "name": "python3"
  },
  "language_info": {
   "name": "python"
  }
 },
 "nbformat": 4,
 "nbformat_minor": 0
}
