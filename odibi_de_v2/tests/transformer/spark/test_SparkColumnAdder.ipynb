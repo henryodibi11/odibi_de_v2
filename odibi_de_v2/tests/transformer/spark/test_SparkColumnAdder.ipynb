{
 "cells": [
  {
   "cell_type": "code",
   "execution_count": 0,
   "metadata": {
    "application/vnd.databricks.v1+cell": {
     "cellMetadata": {
      "byteLimit": 2048000,
      "rowLimit": 10000
     },
     "inputWidgets": {},
     "nuid": "71c482cb-fcba-4120-893e-f23b5e616a90",
     "showTitle": false,
     "tableResultSettingsMap": {},
     "title": ""
    }
   },
   "outputs": [],
   "source": [
    "%load_ext autoreload\n",
    "%autoreload 2\n",
    "# Enables autoreload; learn more at https://docs.databricks.com/en/files/workspace-modules.html#autoreload-for-python-modules\n",
    "# To disable autoreload; run %autoreload 0"
   ]
  },
  {
   "cell_type": "code",
   "execution_count": 0,
   "metadata": {
    "application/vnd.databricks.v1+cell": {
     "cellMetadata": {
      "byteLimit": 2048000,
      "rowLimit": 10000
     },
     "inputWidgets": {},
     "nuid": "bda3e8eb-0cbf-4b4d-8f53-d5f7c1b6600f",
     "showTitle": false,
     "tableResultSettingsMap": {},
     "title": ""
    }
   },
   "outputs": [],
   "source": [
    "import sys\n",
    "import os\n",
    "sys.path.append(os.path.abspath('./odibi_de_v2'))\n",
    "os.environ[\"PYTHONDONTWRITEBYTECODE\"] = \"1\""
   ]
  },
  {
   "cell_type": "code",
   "execution_count": 0,
   "metadata": {
    "application/vnd.databricks.v1+cell": {
     "cellMetadata": {
      "byteLimit": 2048000,
      "rowLimit": 10000
     },
     "inputWidgets": {},
     "nuid": "75019e75-2151-4ca7-bcd6-c496f49a4fe2",
     "showTitle": false,
     "tableResultSettingsMap": {},
     "title": ""
    }
   },
   "outputs": [],
   "source": [
    "from odibi_de_v2.transformer import SparkColumnAdder"
   ]
  },
  {
   "cell_type": "code",
   "execution_count": 0,
   "metadata": {
    "application/vnd.databricks.v1+cell": {
     "cellMetadata": {
      "byteLimit": 2048000,
      "rowLimit": 10000
     },
     "inputWidgets": {},
     "nuid": "74ff7715-f03a-43d9-8810-e79a42c64035",
     "showTitle": false,
     "tableResultSettingsMap": {},
     "title": ""
    }
   },
   "outputs": [],
   "source": [
    "from pyspark.sql import SparkSession\n",
    "# from odibi_de_v2.transformer.spark_column_adder import SparkColumnAdder\n",
    "\n",
    "spark = SparkSession.builder.appName(\"TestSparkColumnAdder\").getOrCreate()\n",
    "\n",
    "# Create test DataFrame\n",
    "df = spark.createDataFrame(\n",
    "    [(1, 2), (3, 4)],\n",
    "    [\"col1\", \"col2\"]\n",
    ")\n",
    "\n",
    "# 1. Static value assignment\n",
    "adder_static = SparkColumnAdder(column_name=\"static_col\", value=\"static_value\")\n",
    "df_static = adder_static.transform(df)\n",
    "df_static.show()\n",
    "\n",
    "# 2. Callable function\n",
    "adder_callable = SparkColumnAdder(\n",
    "    column_name=\"double_col1\",\n",
    "    value=lambda d: d[\"col1\"] * 2\n",
    ")\n",
    "df_callable = adder_callable.transform(df)\n",
    "df_callable.show()\n",
    "\n",
    "# 3. Copy from another column\n",
    "adder_copy = SparkColumnAdder(column_name=\"copy_col2\", value=\"col2\")\n",
    "df_copy = adder_copy.transform(df)\n",
    "df_copy.show()\n",
    "\n",
    "# 4. Aggregation\n",
    "adder_agg = SparkColumnAdder(\n",
    "    column_name=\"sum_col\",\n",
    "    aggregation={\n",
    "        \"columns\": [\"col1\", \"col2\"],\n",
    "        \"agg_func\": lambda d: d[\"col1\"] + d[\"col2\"]\n",
    "    }\n",
    ")\n",
    "df_agg = adder_agg.transform(df)\n",
    "df_agg.show()\n",
    "\n"
   ]
  }
 ],
 "metadata": {
  "application/vnd.databricks.v1+notebook": {
   "computePreferences": null,
   "dashboards": [],
   "environmentMetadata": null,
   "inputWidgetPreferences": null,
   "language": "python",
   "notebookMetadata": {
    "pythonIndentUnit": 4
   },
   "notebookName": "test_SparkColumnAdder",
   "widgets": {}
  },
  "kernelspec": {
   "display_name": "Python 3",
   "language": "python",
   "name": "python3"
  },
  "language_info": {
   "name": "python"
  }
 },
 "nbformat": 4,
 "nbformat_minor": 0
}
