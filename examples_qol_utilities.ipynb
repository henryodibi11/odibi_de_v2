{
 "cells": [
  {
   "cell_type": "markdown",
   "metadata": {},
   "source": [
    "# Quality-of-Life Utilities - Examples\n",
    "\n",
    "This notebook demonstrates the new QoL utilities for data engineers."
   ]
  },
  {
   "cell_type": "markdown",
   "metadata": {},
   "source": [
    "## Setup\n",
    "\n",
    "Initialize your SQL provider and Spark session."
   ]
  },
  {
   "cell_type": "code",
   "execution_count": null,
   "metadata": {},
   "outputs": [],
   "source": [
    "from pyspark.sql import SparkSession\n",
    "from odibi_de_v2.connector import SQLServerProvider\n",
    "\n",
    "# Get Spark session\n",
    "spark = SparkSession.getActiveSession()\n",
    "\n",
    "# Initialize SQL provider (configure with your connection details)\n",
    "sql_provider = SQLServerProvider()\n",
    "\n",
    "# Set your project details\n",
    "PROJECT = \"Energy Efficiency\"\n",
    "ENV = \"qat\""
   ]
  },
  {
   "cell_type": "markdown",
   "metadata": {},
   "source": [
    "## 1. Quick Health Check\n",
    "\n",
    "Run a comprehensive health check on your project."
   ]
  },
  {
   "cell_type": "code",
   "execution_count": null,
   "metadata": {},
   "outputs": [],
   "source": [
    "from odibi_de_v2.utils import quick_health_check\n",
    "\n",
    "quick_health_check(sql_provider, spark, PROJECT, ENV)"
   ]
  },
  {
   "cell_type": "markdown",
   "metadata": {},
   "source": [
    "## 2. Project Summary\n",
    "\n",
    "Get a comprehensive overview of your project."
   ]
  },
  {
   "cell_type": "code",
   "execution_count": null,
   "metadata": {},
   "outputs": [],
   "source": [
    "from odibi_de_v2.utils import print_project_summary\n",
    "\n",
    "print_project_summary(sql_provider, spark, PROJECT, ENV)"
   ]
  },
  {
   "cell_type": "markdown",
   "metadata": {},
   "source": [
    "## 3. List All Projects\n",
    "\n",
    "See all configured projects in your environment."
   ]
  },
  {
   "cell_type": "code",
   "execution_count": null,
   "metadata": {},
   "outputs": [],
   "source": [
    "from odibi_de_v2.utils import list_projects\n",
    "\n",
    "projects = list_projects(sql_provider, spark, ENV)\n",
    "\n",
    "print(f\"\\n📁 Projects in {ENV}:\")\n",
    "for i, project in enumerate(projects, 1):\n",
    "    print(f\"{i}. {project}\")"
   ]
  },
  {
   "cell_type": "markdown",
   "metadata": {},
   "source": [
    "## 4. Layer Summary\n",
    "\n",
    "Get statistics for each layer."
   ]
  },
  {
   "cell_type": "code",
   "execution_count": null,
   "metadata": {},
   "outputs": [],
   "source": [
    "from odibi_de_v2.utils import get_layer_summary\n",
    "\n",
    "layers = get_layer_summary(sql_provider, spark, PROJECT, ENV)\n",
    "\n",
    "print(\"\\n📊 Layer Summary:\")\n",
    "for layer in layers:\n",
    "    print(f\"{layer['layer']:15} {layer['enabled_count']:3} enabled, {layer['disabled_count']:3} disabled\")"
   ]
  },
  {
   "cell_type": "markdown",
   "metadata": {},
   "source": [
    "## 5. Validate Configurations\n",
    "\n",
    "Validate all transformation configurations."
   ]
  },
  {
   "cell_type": "code",
   "execution_count": null,
   "metadata": {},
   "outputs": [],
   "source": [
    "from odibi_de_v2.config import ConfigValidator\n",
    "from odibi_de_v2.core import DataType\n",
    "\n",
    "# Load configs\n",
    "query = f\"\"\"\n",
    "SELECT *\n",
    "FROM TransformationRegistry\n",
    "WHERE LOWER(project) = LOWER('{PROJECT}')\n",
    "AND environment = '{ENV}'\n",
    "\"\"\"\n",
    "\n",
    "df = sql_provider.read(\n",
    "    data_type=DataType.SQL,\n",
    "    container=\"\",\n",
    "    path_prefix=\"\",\n",
    "    object_name=query,\n",
    "    spark=spark\n",
    ")\n",
    "\n",
    "configs = [row.asDict() for row in df.collect()]\n",
    "\n",
    "# Validate\n",
    "validator = ConfigValidator()\n",
    "report = validator.generate_validation_report(configs)\n",
    "\n",
    "print(f\"\\n✅ Valid: {report['valid']}/{report['total']} ({report['pass_rate']})\")\n",
    "print(f\"❌ Invalid: {report['invalid']}\")\n",
    "\n",
    "if report['issues']:\n",
    "    print(f\"\\n⚠️ Issues found:\")\n",
    "    for issue in report['issues'][:5]:\n",
    "        print(f\"\\n{issue['id']}:\")\n",
    "        for err in issue['errors']:\n",
    "            print(f\"  ❌ {err}\")\n",
    "        for warn in issue['warnings']:\n",
    "            print(f\"  ⚠️  {warn}\")"
   ]
  },
  {
   "cell_type": "markdown",
   "metadata": {},
   "source": [
    "## 6. Check Recent Failures\n",
    "\n",
    "Identify transformations that failed recently."
   ]
  },
  {
   "cell_type": "code",
   "execution_count": null,
   "metadata": {},
   "outputs": [],
   "source": [
    "from odibi_de_v2.utils import get_failed_transformations\n",
    "\n",
    "failed = get_failed_transformations(sql_provider, spark, PROJECT, ENV, hours=24)\n",
    "\n",
    "if failed:\n",
    "    print(f\"\\n❌ Failed transformations (last 24h): {len(failed)}\")\n",
    "    for fail in failed[:5]:\n",
    "        print(f\"\\n- {fail['transformation_id']}\")\n",
    "        print(f\"  Time: {fail['start_time']}\")\n",
    "        print(f\"  Error: {fail.get('error_message', 'Unknown')[:80]}\")\n",
    "else:\n",
    "    print(\"\\n✅ No failures in the last 24 hours\")"
   ]
  },
  {
   "cell_type": "markdown",
   "metadata": {},
   "source": [
    "## 7. Get Specific Configuration\n",
    "\n",
    "Retrieve configuration for a specific transformation."
   ]
  },
  {
   "cell_type": "code",
   "execution_count": null,
   "metadata": {},
   "outputs": [],
   "source": [
    "from odibi_de_v2.utils import get_transformation_config\n",
    "import json\n",
    "\n",
    "# Replace with your transformation ID\n",
    "TRANSFORM_ID = \"your-transformation-id\"\n",
    "\n",
    "config = get_transformation_config(sql_provider, spark, TRANSFORM_ID, ENV)\n",
    "\n",
    "if config:\n",
    "    print(f\"\\n📋 Configuration for {TRANSFORM_ID}:\")\n",
    "    print(f\"\\nModule: {config['module']}\")\n",
    "    print(f\"Function: {config['function']}\")\n",
    "    print(f\"Layer: {config['layer']}\")\n",
    "    print(f\"\\nInputs: {json.dumps(config['inputs'], indent=2)}\")\n",
    "    print(f\"\\nOutputs: {json.dumps(config['outputs'], indent=2)}\")\n",
    "else:\n",
    "    print(f\"❌ Configuration not found for {TRANSFORM_ID}\")"
   ]
  },
  {
   "cell_type": "markdown",
   "metadata": {},
   "source": [
    "## 8. Export Project Configuration\n",
    "\n",
    "Export entire project config to JSON for backup or review."
   ]
  },
  {
   "cell_type": "code",
   "execution_count": null,
   "metadata": {},
   "outputs": [],
   "source": [
    "from odibi_de_v2.utils import export_project_config\n",
    "import datetime\n",
    "\n",
    "# Export to file\n",
    "today = datetime.date.today().strftime(\"%Y%m%d\")\n",
    "output_file = f\"{PROJECT.replace(' ', '_')}_{ENV}_{today}.json\"\n",
    "\n",
    "config = export_project_config(sql_provider, spark, PROJECT, ENV, output_file)\n",
    "\n",
    "print(f\"\\n✅ Exported {config['config_count']} configurations to {output_file}\")"
   ]
  },
  {
   "cell_type": "markdown",
   "metadata": {},
   "source": [
    "## 9. Detailed Health Check\n",
    "\n",
    "Run detailed diagnostics with programmatic access to results."
   ]
  },
  {
   "cell_type": "code",
   "execution_count": null,
   "metadata": {},
   "outputs": [],
   "source": [
    "from odibi_de_v2.utils import HealthCheck\n",
    "\n",
    "hc = HealthCheck(sql_provider, spark, PROJECT, ENV)\n",
    "report = hc.run_full_check()\n",
    "\n",
    "# Access specific checks\n",
    "print(f\"\\n🏥 Health Status: {report['overall_health']}\")\n",
    "print(f\"\\nData Quality Issues: {len(report['checks'].get('data_quality', []))}\")\n",
    "print(f\"JSON Validity Issues: {len(report['checks'].get('json_validity', []))}\")\n",
    "print(f\"Missing Functions: {len(report['checks'].get('missing_functions', []))}\")\n",
    "print(f\"Duplicate IDs: {len(report['checks'].get('duplicate_ids', []))}\")\n",
    "\n",
    "# Full report\n",
    "hc.print_report(report)"
   ]
  },
  {
   "cell_type": "markdown",
   "metadata": {},
   "source": [
    "## 10. Check Specific Layer Health\n",
    "\n",
    "Verify health of a specific layer."
   ]
  },
  {
   "cell_type": "code",
   "execution_count": null,
   "metadata": {},
   "outputs": [],
   "source": [
    "from odibi_de_v2.utils import HealthCheck\n",
    "\n",
    "hc = HealthCheck(sql_provider, spark, PROJECT, ENV)\n",
    "\n",
    "for layer in [\"Bronze\", \"Silver_1\", \"Silver_2\", \"Gold_1\"]:\n",
    "    result = hc.check_layer(layer)\n",
    "    status = \"✅\" if result['healthy'] else \"❌\"\n",
    "    print(f\"{status} {layer}: {result['config_count']} configs\")\n",
    "    \n",
    "    if not result['healthy']:\n",
    "        for issue in result['issues'][:3]:\n",
    "            print(f\"   - {issue}\")"
   ]
  },
  {
   "cell_type": "markdown",
   "metadata": {},
   "source": [
    "## 💡 Tips\n",
    "\n",
    "1. **Daily Routine**: Run `quick_health_check()` and `print_project_summary()` each morning\n",
    "2. **Before Deployment**: Always run validation and health check\n",
    "3. **Troubleshooting**: Use `get_failed_transformations()` and `get_transformation_config()` to debug\n",
    "4. **Backup**: Regularly export configs with `export_project_config()`\n",
    "5. **CLI**: For quick checks, use the CLI commands instead of notebooks\n",
    "\n",
    "See `QOL_UTILITIES.md` for complete documentation."
   ]
  }
 ],
 "metadata": {
  "kernelspec": {
   "display_name": "Python 3",
   "language": "python",
   "name": "python3"
  },
  "language_info": {
   "name": "python",
   "version": "3.10.0"
  }
 },
 "nbformat": 4,
 "nbformat_minor": 2
}
